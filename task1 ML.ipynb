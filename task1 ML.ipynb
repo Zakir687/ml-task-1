{
 "cells": [
  {
   "cell_type": "code",
   "execution_count": 23,
   "id": "f05175b0-9feb-43eb-af67-5475afb191e9",
   "metadata": {},
   "outputs": [
    {
     "data": {
      "text/plain": [
       "10"
      ]
     },
     "execution_count": 23,
     "metadata": {},
     "output_type": "execute_result"
    }
   ],
   "source": [
    "print(\"this is my fir\")"
   ]
  },
  {
   "cell_type": "code",
   "execution_count": 25,
   "id": "548ea731-7d02-4068-97bc-19f7e42b6fae",
   "metadata": {},
   "outputs": [],
   "source": [
    "import numpy as np"
   ]
  },
  {
   "cell_type": "code",
   "execution_count": null,
   "id": "6f7dc6b8-4dbf-48bf-b4dd-3b2d75d7f086",
   "metadata": {},
   "outputs": [],
   "source": []
  }
 ],
 "metadata": {
  "kernelspec": {
   "display_name": "Python 3 (ipykernel)",
   "language": "python",
   "name": "python3"
  },
  "language_info": {
   "codemirror_mode": {
    "name": "ipython",
    "version": 3
   },
   "file_extension": ".py",
   "mimetype": "text/x-python",
   "name": "python",
   "nbconvert_exporter": "python",
   "pygments_lexer": "ipython3",
   "version": "3.12.4"
  }
 },
 "nbformat": 4,
 "nbformat_minor": 5
}

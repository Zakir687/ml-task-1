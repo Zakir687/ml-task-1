{
 "cells": [
  {
   "cell_type": "code",
   "execution_count": 3,
   "id": "cab34cda-bb13-44c1-81d9-8df61f8263fa",
   "metadata": {},
   "outputs": [],
   "source": [
    "import pandas as pd \n",
    "import numpy as np"
   ]
  },
  {
   "cell_type": "markdown",
   "id": "03589aab-3b79-47b0-a4fe-21a0184038b5",
   "metadata": {},
   "source": [
    "# Step 1: Define the data for students' scores"
   ]
  },
  {
   "cell_type": "code",
   "execution_count": 5,
   "id": "ea9d1a76-634e-4dd7-9142-8018f75fc689",
   "metadata": {},
   "outputs": [],
   "source": [
    "data = {\r\n",
    "    'Student': ['Alice', 'Bob', 'Charlie', 'David', 'Eva'],\r\n",
    "    'Math': [85, 90, 78, 88, 92],\r\n",
    "    'Science': [89, 85, 82, 91, 88],\r\n",
    "    'English': [90, 88, 79, 87, 93]\r\n",
    "}"
   ]
  },
  {
   "cell_type": "markdown",
   "id": "d36d6eac-46f7-45e7-b2bf-5eb55542908f",
   "metadata": {},
   "source": [
    "# Step 2: Create a DataFrame from the data"
   ]
  },
  {
   "cell_type": "code",
   "execution_count": 11,
   "id": "321bd994-b573-49a6-988c-4e4dd204f9c5",
   "metadata": {},
   "outputs": [],
   "source": [
    "df = pd.DataFrame(data)"
   ]
  },
  {
   "cell_type": "markdown",
   "id": "14e3f38b-a0e7-40ac-b4aa-ffa7410f26e7",
   "metadata": {},
   "source": [
    "# Step 3: Use NumPy to calculate the average score across the three subjects"
   ]
  },
  {
   "cell_type": "code",
   "execution_count": 13,
   "id": "b2ff1f22-59b6-4c15-b6e5-9aa46821769f",
   "metadata": {},
   "outputs": [],
   "source": [
    "df['Average'] = np.mean(df[['Math', 'Science', 'English']], axis=1)"
   ]
  },
  {
   "cell_type": "markdown",
   "id": "e45a3a66-a173-41b9-a3e7-b281f1dd85ca",
   "metadata": {},
   "source": [
    "# Step 4: Define a function to assign a grade based on the average score"
   ]
  },
  {
   "cell_type": "code",
   "execution_count": 17,
   "id": "6fe114da-70c0-43b8-9ef7-dd8af810cc18",
   "metadata": {},
   "outputs": [],
   "source": [
    "def assign_grade(avg):\n",
    "    if avg >= 90:\n",
    "        return 'A'\n",
    "    elif 80 <= avg < 90:\n",
    "        return 'B'\n",
    "    elif 70 <= avg < 80:\n",
    "        return 'C'\n",
    "    else:\n",
    "        return 'D'"
   ]
  },
  {
   "cell_type": "markdown",
   "id": "e16941b9-6b57-4f51-8532-031b5814f1a0",
   "metadata": {},
   "source": [
    "# Step 5: Apply the function to assign grades for each student"
   ]
  },
  {
   "cell_type": "code",
   "execution_count": 19,
   "id": "5f4ce3da-4351-4bd8-b294-5b2a4df83d36",
   "metadata": {},
   "outputs": [],
   "source": [
    "df['Grade'] = df['Average'].apply(assign_grade)"
   ]
  },
  {
   "cell_type": "markdown",
   "id": "c2cc249b-1749-47a5-a69f-9976692e5808",
   "metadata": {},
   "source": [
    "# Step 6: Output the final DataFrame with Student, Scores, Average, and Grade"
   ]
  },
  {
   "cell_type": "code",
   "execution_count": 21,
   "id": "713f1e32-e088-44ee-9c19-091323214579",
   "metadata": {},
   "outputs": [
    {
     "name": "stdout",
     "output_type": "stream",
     "text": [
      "   Student  Math  Science  English    Average Grade\n",
      "0    Alice    85       89       90  88.000000     B\n",
      "1      Bob    90       85       88  87.666667     B\n",
      "2  Charlie    78       82       79  79.666667     C\n",
      "3    David    88       91       87  88.666667     B\n",
      "4      Eva    92       88       93  91.000000     A\n"
     ]
    }
   ],
   "source": [
    "print(df)"
   ]
  },
  {
   "cell_type": "code",
   "execution_count": null,
   "id": "edf09460-7f95-424e-967e-3c536b32e1b1",
   "metadata": {},
   "outputs": [],
   "source": []
  }
 ],
 "metadata": {
  "kernelspec": {
   "display_name": "Python 3 (ipykernel)",
   "language": "python",
   "name": "python3"
  },
  "language_info": {
   "codemirror_mode": {
    "name": "ipython",
    "version": 3
   },
   "file_extension": ".py",
   "mimetype": "text/x-python",
   "name": "python",
   "nbconvert_exporter": "python",
   "pygments_lexer": "ipython3",
   "version": "3.12.4"
  }
 },
 "nbformat": 4,
 "nbformat_minor": 5
}
